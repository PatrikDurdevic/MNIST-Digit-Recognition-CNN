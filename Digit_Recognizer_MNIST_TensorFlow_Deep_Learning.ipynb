{
  "nbformat": 4,
  "nbformat_minor": 0,
  "metadata": {
    "kernelspec": {
      "display_name": "Python 3",
      "language": "python",
      "name": "python3"
    },
    "language_info": {
      "codemirror_mode": {
        "name": "ipython",
        "version": 3
      },
      "file_extension": ".py",
      "mimetype": "text/x-python",
      "name": "python",
      "nbconvert_exporter": "python",
      "pygments_lexer": "ipython3",
      "version": "3.6.6"
    },
    "colab": {
      "name": "digit-recognizer-mnist-tensorflow-deep-learning.ipynb",
      "provenance": []
    }
  },
  "cells": [
    {
      "cell_type": "markdown",
      "metadata": {
        "id": "qAumBVjJrdep",
        "colab_type": "text"
      },
      "source": [
        "__If you are reading this on github, please follow [this link to the exact same notebook on Kaggle](https://www.kaggle.com/patrikdurdevic/digit-recognizer-mnist-tensorflow-deep-learning).__<br>\n",
        "# Digit Recognizer\n",
        "_MNIST (\"Modified National Institute of Standards and Technology\") is the de facto “hello world” dataset of computer vision. Since its release in 1999, this classic dataset of handwritten images has served as the basis for benchmarking classification algorithms. As new machine learning techniques emerge, MNIST remains a reliable resource for researchers and learners alike._"
      ]
    },
    {
      "cell_type": "markdown",
      "metadata": {
        "id": "-Sc4NOhErdes",
        "colab_type": "text"
      },
      "source": [
        "## Goal\n",
        "The goal of this competition is to correctly identify digits from a dataset of tens of thousands of handwritten images."
      ]
    },
    {
      "cell_type": "markdown",
      "metadata": {
        "id": "TEv7sdbZrdeu",
        "colab_type": "text"
      },
      "source": [
        "## Solution\n",
        "To solve the identification problem I will create a Convolutional Neural Network (CNN) using the TensorFlow library."
      ]
    },
    {
      "cell_type": "code",
      "metadata": {
        "_cell_guid": "b1076dfc-b9ad-4769-8c92-a6c4dae69d19",
        "_uuid": "8f2839f25d086af736a60e9eeb907d3b93b6e0e5",
        "id": "_8xOzHg-rdew",
        "colab_type": "code",
        "colab": {}
      },
      "source": [
        "import numpy as np\n",
        "import pandas as pd\n",
        "import tensorflow as tf\n",
        "import matplotlib.pyplot as plt"
      ],
      "execution_count": 0,
      "outputs": []
    },
    {
      "cell_type": "markdown",
      "metadata": {
        "id": "WZLLa-x5rde4",
        "colab_type": "text"
      },
      "source": [
        "### Data loading"
      ]
    },
    {
      "cell_type": "code",
      "metadata": {
        "id": "hAIncQtwrde5",
        "colab_type": "code",
        "colab": {},
        "outputId": "da6def44-7cb1-4930-f071-026e30f295ae"
      },
      "source": [
        "df = pd.read_csv(\"/kaggle/input/digit-recognizer/train.csv\")\n",
        "df.shape"
      ],
      "execution_count": 0,
      "outputs": [
        {
          "output_type": "execute_result",
          "data": {
            "text/plain": [
              "(42000, 785)"
            ]
          },
          "metadata": {
            "tags": []
          },
          "execution_count": 2
        }
      ]
    },
    {
      "cell_type": "markdown",
      "metadata": {
        "id": "irbIVF65rde_",
        "colab_type": "text"
      },
      "source": [
        "Split the data and labels"
      ]
    },
    {
      "cell_type": "code",
      "metadata": {
        "id": "SXU8Br4DrdfA",
        "colab_type": "code",
        "colab": {},
        "outputId": "cf1bb4a0-ce1c-40ad-d106-c6e8adb9a216"
      },
      "source": [
        "train_labels = df[\"label\"]\n",
        "train_labels.head()"
      ],
      "execution_count": 0,
      "outputs": [
        {
          "output_type": "execute_result",
          "data": {
            "text/plain": [
              "0    1\n",
              "1    0\n",
              "2    1\n",
              "3    4\n",
              "4    0\n",
              "Name: label, dtype: int64"
            ]
          },
          "metadata": {
            "tags": []
          },
          "execution_count": 3
        }
      ]
    },
    {
      "cell_type": "code",
      "metadata": {
        "id": "e1gCvtRDrdfE",
        "colab_type": "code",
        "colab": {},
        "outputId": "2059d567-94a7-451a-fb35-de76bf478c6a"
      },
      "source": [
        "train_data = df.loc[:, df.columns != 'label']\n",
        "train_data.head()"
      ],
      "execution_count": 0,
      "outputs": [
        {
          "output_type": "execute_result",
          "data": {
            "text/html": [
              "<div>\n",
              "<style scoped>\n",
              "    .dataframe tbody tr th:only-of-type {\n",
              "        vertical-align: middle;\n",
              "    }\n",
              "\n",
              "    .dataframe tbody tr th {\n",
              "        vertical-align: top;\n",
              "    }\n",
              "\n",
              "    .dataframe thead th {\n",
              "        text-align: right;\n",
              "    }\n",
              "</style>\n",
              "<table border=\"1\" class=\"dataframe\">\n",
              "  <thead>\n",
              "    <tr style=\"text-align: right;\">\n",
              "      <th></th>\n",
              "      <th>pixel0</th>\n",
              "      <th>pixel1</th>\n",
              "      <th>pixel2</th>\n",
              "      <th>pixel3</th>\n",
              "      <th>pixel4</th>\n",
              "      <th>pixel5</th>\n",
              "      <th>pixel6</th>\n",
              "      <th>pixel7</th>\n",
              "      <th>pixel8</th>\n",
              "      <th>pixel9</th>\n",
              "      <th>...</th>\n",
              "      <th>pixel774</th>\n",
              "      <th>pixel775</th>\n",
              "      <th>pixel776</th>\n",
              "      <th>pixel777</th>\n",
              "      <th>pixel778</th>\n",
              "      <th>pixel779</th>\n",
              "      <th>pixel780</th>\n",
              "      <th>pixel781</th>\n",
              "      <th>pixel782</th>\n",
              "      <th>pixel783</th>\n",
              "    </tr>\n",
              "  </thead>\n",
              "  <tbody>\n",
              "    <tr>\n",
              "      <th>0</th>\n",
              "      <td>0</td>\n",
              "      <td>0</td>\n",
              "      <td>0</td>\n",
              "      <td>0</td>\n",
              "      <td>0</td>\n",
              "      <td>0</td>\n",
              "      <td>0</td>\n",
              "      <td>0</td>\n",
              "      <td>0</td>\n",
              "      <td>0</td>\n",
              "      <td>...</td>\n",
              "      <td>0</td>\n",
              "      <td>0</td>\n",
              "      <td>0</td>\n",
              "      <td>0</td>\n",
              "      <td>0</td>\n",
              "      <td>0</td>\n",
              "      <td>0</td>\n",
              "      <td>0</td>\n",
              "      <td>0</td>\n",
              "      <td>0</td>\n",
              "    </tr>\n",
              "    <tr>\n",
              "      <th>1</th>\n",
              "      <td>0</td>\n",
              "      <td>0</td>\n",
              "      <td>0</td>\n",
              "      <td>0</td>\n",
              "      <td>0</td>\n",
              "      <td>0</td>\n",
              "      <td>0</td>\n",
              "      <td>0</td>\n",
              "      <td>0</td>\n",
              "      <td>0</td>\n",
              "      <td>...</td>\n",
              "      <td>0</td>\n",
              "      <td>0</td>\n",
              "      <td>0</td>\n",
              "      <td>0</td>\n",
              "      <td>0</td>\n",
              "      <td>0</td>\n",
              "      <td>0</td>\n",
              "      <td>0</td>\n",
              "      <td>0</td>\n",
              "      <td>0</td>\n",
              "    </tr>\n",
              "    <tr>\n",
              "      <th>2</th>\n",
              "      <td>0</td>\n",
              "      <td>0</td>\n",
              "      <td>0</td>\n",
              "      <td>0</td>\n",
              "      <td>0</td>\n",
              "      <td>0</td>\n",
              "      <td>0</td>\n",
              "      <td>0</td>\n",
              "      <td>0</td>\n",
              "      <td>0</td>\n",
              "      <td>...</td>\n",
              "      <td>0</td>\n",
              "      <td>0</td>\n",
              "      <td>0</td>\n",
              "      <td>0</td>\n",
              "      <td>0</td>\n",
              "      <td>0</td>\n",
              "      <td>0</td>\n",
              "      <td>0</td>\n",
              "      <td>0</td>\n",
              "      <td>0</td>\n",
              "    </tr>\n",
              "    <tr>\n",
              "      <th>3</th>\n",
              "      <td>0</td>\n",
              "      <td>0</td>\n",
              "      <td>0</td>\n",
              "      <td>0</td>\n",
              "      <td>0</td>\n",
              "      <td>0</td>\n",
              "      <td>0</td>\n",
              "      <td>0</td>\n",
              "      <td>0</td>\n",
              "      <td>0</td>\n",
              "      <td>...</td>\n",
              "      <td>0</td>\n",
              "      <td>0</td>\n",
              "      <td>0</td>\n",
              "      <td>0</td>\n",
              "      <td>0</td>\n",
              "      <td>0</td>\n",
              "      <td>0</td>\n",
              "      <td>0</td>\n",
              "      <td>0</td>\n",
              "      <td>0</td>\n",
              "    </tr>\n",
              "    <tr>\n",
              "      <th>4</th>\n",
              "      <td>0</td>\n",
              "      <td>0</td>\n",
              "      <td>0</td>\n",
              "      <td>0</td>\n",
              "      <td>0</td>\n",
              "      <td>0</td>\n",
              "      <td>0</td>\n",
              "      <td>0</td>\n",
              "      <td>0</td>\n",
              "      <td>0</td>\n",
              "      <td>...</td>\n",
              "      <td>0</td>\n",
              "      <td>0</td>\n",
              "      <td>0</td>\n",
              "      <td>0</td>\n",
              "      <td>0</td>\n",
              "      <td>0</td>\n",
              "      <td>0</td>\n",
              "      <td>0</td>\n",
              "      <td>0</td>\n",
              "      <td>0</td>\n",
              "    </tr>\n",
              "  </tbody>\n",
              "</table>\n",
              "<p>5 rows × 784 columns</p>\n",
              "</div>"
            ],
            "text/plain": [
              "   pixel0  pixel1  pixel2  pixel3  pixel4  pixel5  pixel6  pixel7  pixel8  \\\n",
              "0       0       0       0       0       0       0       0       0       0   \n",
              "1       0       0       0       0       0       0       0       0       0   \n",
              "2       0       0       0       0       0       0       0       0       0   \n",
              "3       0       0       0       0       0       0       0       0       0   \n",
              "4       0       0       0       0       0       0       0       0       0   \n",
              "\n",
              "   pixel9  ...  pixel774  pixel775  pixel776  pixel777  pixel778  pixel779  \\\n",
              "0       0  ...         0         0         0         0         0         0   \n",
              "1       0  ...         0         0         0         0         0         0   \n",
              "2       0  ...         0         0         0         0         0         0   \n",
              "3       0  ...         0         0         0         0         0         0   \n",
              "4       0  ...         0         0         0         0         0         0   \n",
              "\n",
              "   pixel780  pixel781  pixel782  pixel783  \n",
              "0         0         0         0         0  \n",
              "1         0         0         0         0  \n",
              "2         0         0         0         0  \n",
              "3         0         0         0         0  \n",
              "4         0         0         0         0  \n",
              "\n",
              "[5 rows x 784 columns]"
            ]
          },
          "metadata": {
            "tags": []
          },
          "execution_count": 4
        }
      ]
    },
    {
      "cell_type": "markdown",
      "metadata": {
        "id": "SDjVfghrrdfK",
        "colab_type": "text"
      },
      "source": [
        "Convert Pandas DataFrames to Numpy arrays"
      ]
    },
    {
      "cell_type": "code",
      "metadata": {
        "id": "AZlG4iNtrdfM",
        "colab_type": "code",
        "colab": {}
      },
      "source": [
        "train_data = train_data.to_numpy()\n",
        "train_labels = train_labels.to_numpy()"
      ],
      "execution_count": 0,
      "outputs": []
    },
    {
      "cell_type": "markdown",
      "metadata": {
        "id": "AIgR61IErdfQ",
        "colab_type": "text"
      },
      "source": [
        "Normalize the data"
      ]
    },
    {
      "cell_type": "code",
      "metadata": {
        "id": "y1MW7OKQrdfR",
        "colab_type": "code",
        "colab": {}
      },
      "source": [
        "train_data = train_data / 255"
      ],
      "execution_count": 0,
      "outputs": []
    },
    {
      "cell_type": "markdown",
      "metadata": {
        "id": "r5WCpV4rrdfT",
        "colab_type": "text"
      },
      "source": [
        "Reshape the data"
      ]
    },
    {
      "cell_type": "code",
      "metadata": {
        "id": "yiALwPOgrdfU",
        "colab_type": "code",
        "colab": {},
        "outputId": "5e951caf-2481-44ac-fe92-f7d8cc6b5951"
      },
      "source": [
        "train_data = train_data.reshape((train_data.shape[0], 28, 28, 1))\n",
        "train_data.shape"
      ],
      "execution_count": 0,
      "outputs": [
        {
          "output_type": "execute_result",
          "data": {
            "text/plain": [
              "(42000, 28, 28, 1)"
            ]
          },
          "metadata": {
            "tags": []
          },
          "execution_count": 7
        }
      ]
    },
    {
      "cell_type": "markdown",
      "metadata": {
        "id": "O3jJMql0rdfW",
        "colab_type": "text"
      },
      "source": [
        "### CNN Model"
      ]
    },
    {
      "cell_type": "markdown",
      "metadata": {
        "id": "H4VppjC6rdfX",
        "colab_type": "text"
      },
      "source": [
        "__Create the model and compile it__\n",
        "* SparseCategoricalCrossentropy loss function\n",
        "* Adam optimizer"
      ]
    },
    {
      "cell_type": "code",
      "metadata": {
        "id": "RbfX_G22rdfX",
        "colab_type": "code",
        "colab": {}
      },
      "source": [
        "model = tf.keras.Sequential([\n",
        "    tf.keras.layers.Conv2D(filters=32, kernel_size=(3,3), activation=tf.nn.relu),\n",
        "    tf.keras.layers.BatchNormalization(),\n",
        "    tf.keras.layers.Conv2D(filters=32, kernel_size=(3,3), activation=tf.nn.relu),\n",
        "    tf.keras.layers.BatchNormalization(),\n",
        "    tf.keras.layers.Conv2D(filters=32, kernel_size=(5,5), strides=2, padding='same', activation=tf.nn.relu),\n",
        "    tf.keras.layers.BatchNormalization(),\n",
        "    tf.keras.layers.Dropout(0.4),\n",
        "\n",
        "    tf.keras.layers.Conv2D(filters=64, kernel_size=(3,3), activation=tf.nn.relu),\n",
        "    tf.keras.layers.BatchNormalization(),\n",
        "    tf.keras.layers.Conv2D(filters=64, kernel_size=(3,3), activation=tf.nn.relu),\n",
        "    tf.keras.layers.BatchNormalization(),\n",
        "    tf.keras.layers.Conv2D(filters=64, kernel_size=(5,5), strides=2, padding='same', activation=tf.nn.relu),\n",
        "    tf.keras.layers.BatchNormalization(),\n",
        "    tf.keras.layers.Dropout(0.4),\n",
        "\n",
        "    tf.keras.layers.Conv2D(filters=128, kernel_size=(4,4), activation=tf.nn.relu),\n",
        "    tf.keras.layers.BatchNormalization(),\n",
        "    tf.keras.layers.Flatten(),\n",
        "    tf.keras.layers.Dropout(0.4),\n",
        "\n",
        "    tf.keras.layers.Dense(10, activation=tf.nn.softmax)\n",
        "])\n",
        "model.compile(optimizer='adam', loss=tf.keras.losses.SparseCategoricalCrossentropy(from_logits=True), metrics=['accuracy'])"
      ],
      "execution_count": 0,
      "outputs": []
    },
    {
      "cell_type": "markdown",
      "metadata": {
        "id": "tn1LT2kbrdfa",
        "colab_type": "text"
      },
      "source": [
        "### Training"
      ]
    },
    {
      "cell_type": "code",
      "metadata": {
        "id": "rP5HHVXardfb",
        "colab_type": "code",
        "colab": {},
        "outputId": "dd79ddd2-1769-43c1-b0ea-20119832d143"
      },
      "source": [
        "history = model.fit(train_data, train_labels, epochs=20, batch_size=32)"
      ],
      "execution_count": 0,
      "outputs": [
        {
          "output_type": "stream",
          "text": [
            "Train on 42000 samples\n",
            "Epoch 1/20\n",
            "42000/42000 [==============================] - 13s 298us/sample - loss: 1.5354 - accuracy: 0.9352\n",
            "Epoch 2/20\n",
            "42000/42000 [==============================] - 8s 184us/sample - loss: 1.4887 - accuracy: 0.9748\n",
            "Epoch 3/20\n",
            "42000/42000 [==============================] - 8s 185us/sample - loss: 1.4830 - accuracy: 0.9800\n",
            "Epoch 4/20\n",
            "42000/42000 [==============================] - 8s 182us/sample - loss: 1.4807 - accuracy: 0.9816\n",
            "Epoch 5/20\n",
            "42000/42000 [==============================] - 8s 188us/sample - loss: 1.4783 - accuracy: 0.9837\n",
            "Epoch 6/20\n",
            "42000/42000 [==============================] - 8s 202us/sample - loss: 1.4767 - accuracy: 0.9850\n",
            "Epoch 7/20\n",
            "42000/42000 [==============================] - 8s 195us/sample - loss: 1.4762 - accuracy: 0.9858\n",
            "Epoch 8/20\n",
            "42000/42000 [==============================] - 8s 185us/sample - loss: 1.4748 - accuracy: 0.9866\n",
            "Epoch 9/20\n",
            "42000/42000 [==============================] - 8s 184us/sample - loss: 1.4739 - accuracy: 0.9877\n",
            "Epoch 10/20\n",
            "42000/42000 [==============================] - 8s 188us/sample - loss: 1.4739 - accuracy: 0.9877\n",
            "Epoch 11/20\n",
            "42000/42000 [==============================] - 8s 184us/sample - loss: 1.4731 - accuracy: 0.9882\n",
            "Epoch 12/20\n",
            "42000/42000 [==============================] - 8s 184us/sample - loss: 1.4717 - accuracy: 0.9898\n",
            "Epoch 13/20\n",
            "42000/42000 [==============================] - 8s 201us/sample - loss: 1.4718 - accuracy: 0.9897\n",
            "Epoch 14/20\n",
            "42000/42000 [==============================] - 8s 192us/sample - loss: 1.4713 - accuracy: 0.9902\n",
            "Epoch 15/20\n",
            "42000/42000 [==============================] - 8s 190us/sample - loss: 1.4719 - accuracy: 0.9893\n",
            "Epoch 16/20\n",
            "42000/42000 [==============================] - 8s 184us/sample - loss: 1.4701 - accuracy: 0.9912\n",
            "Epoch 17/20\n",
            "42000/42000 [==============================] - 8s 186us/sample - loss: 1.4707 - accuracy: 0.9905\n",
            "Epoch 18/20\n",
            "42000/42000 [==============================] - 8s 183us/sample - loss: 1.4698 - accuracy: 0.9915\n",
            "Epoch 19/20\n",
            "42000/42000 [==============================] - 8s 199us/sample - loss: 1.4699 - accuracy: 0.9913\n",
            "Epoch 20/20\n",
            "42000/42000 [==============================] - 8s 190us/sample - loss: 1.4686 - accuracy: 0.9928\n"
          ],
          "name": "stdout"
        }
      ]
    },
    {
      "cell_type": "code",
      "metadata": {
        "id": "mz-oeJBurdfd",
        "colab_type": "code",
        "colab": {},
        "outputId": "370d2f0a-8553-41ce-9519-4765365b1a83"
      },
      "source": [
        "plt.figure(figsize=[8,6])\n",
        "plt.plot(history.history['accuracy'],'r',linewidth=3.0)\n",
        "plt.legend(['Training Accuracy', 'Validation Accuracy'],fontsize=18)\n",
        "plt.xlabel('Epochs ',fontsize=16)\n",
        "plt.ylabel('Accuracy',fontsize=16)\n",
        "plt.title('Accuracy Curves',fontsize=16)\n",
        "plt.show()"
      ],
      "execution_count": 0,
      "outputs": [
        {
          "output_type": "display_data",
          "data": {
            "image/png": "[encoded data removed]",
            "text/plain": [
              "<Figure size 576x432 with 1 Axes>"
            ]
          },
          "metadata": {
            "tags": [],
            "needs_background": "light"
          }
        }
      ]
    },
    {
      "cell_type": "markdown",
      "metadata": {
        "id": "2X8B1CzIrdff",
        "colab_type": "text"
      },
      "source": [
        "## Inference"
      ]
    },
    {
      "cell_type": "markdown",
      "metadata": {
        "id": "2LaNK3QVrdfg",
        "colab_type": "text"
      },
      "source": [
        "Load the test data"
      ]
    },
    {
      "cell_type": "code",
      "metadata": {
        "id": "-rNYiVoerdfg",
        "colab_type": "code",
        "colab": {},
        "outputId": "4c63d32f-51a1-4770-e413-93ebf1d75cfc"
      },
      "source": [
        "df_test = pd.read_csv(\"/kaggle/input/digit-recognizer/test.csv\")\n",
        "df_test.shape"
      ],
      "execution_count": 0,
      "outputs": [
        {
          "output_type": "execute_result",
          "data": {
            "text/plain": [
              "(28000, 784)"
            ]
          },
          "metadata": {
            "tags": []
          },
          "execution_count": 11
        }
      ]
    },
    {
      "cell_type": "markdown",
      "metadata": {
        "id": "myPKNFqRrdfi",
        "colab_type": "text"
      },
      "source": [
        "Preprocessing"
      ]
    },
    {
      "cell_type": "code",
      "metadata": {
        "id": "E1QUi2X2rdfj",
        "colab_type": "code",
        "colab": {},
        "outputId": "7cc51312-4e93-4c7f-e2a4-61cf5f4abb4a"
      },
      "source": [
        "test_data = df_test.to_numpy()\n",
        "test_data = test_data / 255\n",
        "test_data = test_data.reshape((test_data.shape[0], 28, 28, 1))\n",
        "test_data.shape"
      ],
      "execution_count": 0,
      "outputs": [
        {
          "output_type": "execute_result",
          "data": {
            "text/plain": [
              "(28000, 28, 28, 1)"
            ]
          },
          "metadata": {
            "tags": []
          },
          "execution_count": 12
        }
      ]
    },
    {
      "cell_type": "markdown",
      "metadata": {
        "id": "WB7rdGABrdfl",
        "colab_type": "text"
      },
      "source": [
        "__Predicting__"
      ]
    },
    {
      "cell_type": "code",
      "metadata": {
        "id": "mn84jnqrrdfl",
        "colab_type": "code",
        "colab": {},
        "outputId": "ac2c993a-b88e-4bb5-cccb-fec603fb9786"
      },
      "source": [
        "predictions = model.predict(test_data)\n",
        "predictions = np.asarray([np.argmax(prediction) for prediction in predictions])\n",
        "predictions.shape"
      ],
      "execution_count": 0,
      "outputs": [
        {
          "output_type": "execute_result",
          "data": {
            "text/plain": [
              "(28000,)"
            ]
          },
          "metadata": {
            "tags": []
          },
          "execution_count": 13
        }
      ]
    },
    {
      "cell_type": "markdown",
      "metadata": {
        "id": "iXyh5JiArdfn",
        "colab_type": "text"
      },
      "source": [
        "Processing data for saving"
      ]
    },
    {
      "cell_type": "code",
      "metadata": {
        "id": "Z0dgN4p6rdfn",
        "colab_type": "code",
        "colab": {},
        "outputId": "224d9503-faa4-4224-cd04-46923d665f1d"
      },
      "source": [
        "df_predictions = pd.DataFrame(predictions).rename(columns={0: \"Label\"})\n",
        "df_predictions.index.names = ['ImageId']\n",
        "df_predictions.index += 1\n",
        "df_predictions.head()"
      ],
      "execution_count": 0,
      "outputs": [
        {
          "output_type": "execute_result",
          "data": {
            "text/html": [
              "<div>\n",
              "<style scoped>\n",
              "    .dataframe tbody tr th:only-of-type {\n",
              "        vertical-align: middle;\n",
              "    }\n",
              "\n",
              "    .dataframe tbody tr th {\n",
              "        vertical-align: top;\n",
              "    }\n",
              "\n",
              "    .dataframe thead th {\n",
              "        text-align: right;\n",
              "    }\n",
              "</style>\n",
              "<table border=\"1\" class=\"dataframe\">\n",
              "  <thead>\n",
              "    <tr style=\"text-align: right;\">\n",
              "      <th></th>\n",
              "      <th>Label</th>\n",
              "    </tr>\n",
              "    <tr>\n",
              "      <th>ImageId</th>\n",
              "      <th></th>\n",
              "    </tr>\n",
              "  </thead>\n",
              "  <tbody>\n",
              "    <tr>\n",
              "      <th>1</th>\n",
              "      <td>2</td>\n",
              "    </tr>\n",
              "    <tr>\n",
              "      <th>2</th>\n",
              "      <td>0</td>\n",
              "    </tr>\n",
              "    <tr>\n",
              "      <th>3</th>\n",
              "      <td>9</td>\n",
              "    </tr>\n",
              "    <tr>\n",
              "      <th>4</th>\n",
              "      <td>9</td>\n",
              "    </tr>\n",
              "    <tr>\n",
              "      <th>5</th>\n",
              "      <td>3</td>\n",
              "    </tr>\n",
              "  </tbody>\n",
              "</table>\n",
              "</div>"
            ],
            "text/plain": [
              "         Label\n",
              "ImageId       \n",
              "1            2\n",
              "2            0\n",
              "3            9\n",
              "4            9\n",
              "5            3"
            ]
          },
          "metadata": {
            "tags": []
          },
          "execution_count": 14
        }
      ]
    },
    {
      "cell_type": "markdown",
      "metadata": {
        "id": "BBHpzXTDrdfp",
        "colab_type": "text"
      },
      "source": [
        "Save as CSV"
      ]
    },
    {
      "cell_type": "code",
      "metadata": {
        "id": "temB_u7zrdfp",
        "colab_type": "code",
        "colab": {}
      },
      "source": [
        "df_predictions.shape\n",
        "df_predictions.to_csv(\"predictions.csv\")"
      ],
      "execution_count": 0,
      "outputs": []
    }
  ]
}